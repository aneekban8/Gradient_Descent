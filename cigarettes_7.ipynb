{
 "cells": [
  {
   "cell_type": "code",
   "execution_count": 1,
   "id": "8e606dd7-5196-46b4-af86-da5486be9980",
   "metadata": {},
   "outputs": [
    {
     "name": "stderr",
     "output_type": "stream",
     "text": [
      "C:\\Users\\aneek\\AppData\\Local\\Temp\\ipykernel_30940\\3000228962.py:24: SettingWithCopyWarning: \n",
      "A value is trying to be set on a copy of a slice from a DataFrame.\n",
      "Try using .loc[row_indexer,col_indexer] = value instead\n",
      "\n",
      "See the caveats in the documentation: https://pandas.pydata.org/pandas-docs/stable/user_guide/indexing.html#returning-a-view-versus-a-copy\n",
      "  X['P2']=X['Price']*X['Price']\n",
      "C:\\Users\\aneek\\AppData\\Local\\Temp\\ipykernel_30940\\3000228962.py:28: SettingWithCopyWarning: \n",
      "A value is trying to be set on a copy of a slice from a DataFrame.\n",
      "Try using .loc[row_indexer,col_indexer] = value instead\n",
      "\n",
      "See the caveats in the documentation: https://pandas.pydata.org/pandas-docs/stable/user_guide/indexing.html#returning-a-view-versus-a-copy\n",
      "  X1['P2']=X1['Price']*X1['Price']\n"
     ]
    },
    {
     "name": "stdout",
     "output_type": "stream",
     "text": [
      "                            OLS Regression Results                            \n",
      "==============================================================================\n",
      "Dep. Variable:                  Sales   R-squared:                       0.190\n",
      "Model:                            OLS   Adj. R-squared:                  0.148\n",
      "Method:                 Least Squares   F-statistic:                     4.567\n",
      "Date:                Sat, 10 May 2025   Prob (F-statistic):             0.0165\n",
      "Time:                        14:27:41   Log-Likelihood:                -202.24\n",
      "No. Observations:                  42   AIC:                             410.5\n",
      "Df Residuals:                      39   BIC:                             415.7\n",
      "Df Model:                           2                                         \n",
      "Covariance Type:            nonrobust                                         \n",
      "==============================================================================\n",
      "                 coef    std err          t      P>|t|      [0.025      0.975]\n",
      "------------------------------------------------------------------------------\n",
      "const        937.9873    335.727      2.794      0.008     258.915    1617.060\n",
      "Price        -41.8084     18.209     -2.296      0.027     -78.640      -4.977\n",
      "P2             0.5305      0.245      2.167      0.036       0.035       1.026\n",
      "==============================================================================\n",
      "Omnibus:                       44.194   Durbin-Watson:                   1.357\n",
      "Prob(Omnibus):                  0.000   Jarque-Bera (JB):              175.323\n",
      "Skew:                           2.582   Prob(JB):                     8.49e-39\n",
      "Kurtosis:                      11.575   Cond. No.                     1.05e+05\n",
      "==============================================================================\n",
      "\n",
      "Notes:\n",
      "[1] Standard Errors assume that the covariance matrix of the errors is correctly specified.\n",
      "[2] The condition number is large, 1.05e+05. This might indicate that there are\n",
      "strong multicollinearity or other numerical problems.\n"
     ]
    },
    {
     "data": {
      "image/png": "[encoded data removed]",
      "text/plain": [
       "<Figure size 640x480 with 1 Axes>"
      ]
     },
     "metadata": {},
     "output_type": "display_data"
    },
    {
     "name": "stdout",
     "output_type": "stream",
     "text": [
      "RMSE: 23.443715348612354\n",
      "30.2\n",
      "42.0\n",
      "65.5\n",
      "132.2\n",
      "114.34457074112082\n",
      "159.25573385220676\n"
     ]
    }
   ],
   "source": [
    "# -*- coding: utf-8 -*-\n",
    "\"\"\"\n",
    "Created on Tue Apr 29 11:29:48 2025\n",
    "\n",
    "@author: aneek\n",
    "\"\"\"\n",
    "\n",
    "import numpy as np\n",
    "import os\n",
    "#plot autocorrelation function\n",
    "import pandas as pd\n",
    "from sklearn.metrics import mean_squared_error\n",
    "import statsmodels.api as sm\n",
    "import matplotlib.pyplot as plt\n",
    "pd.set_option('display.max_column',None)\n",
    "file_p='C:\\\\Users\\\\aneek\\\\My Drive\\\\data\\\\cigarette_consumption.xlsx'\n",
    "d1=pd.read_excel(file_p)\n",
    "d2=d1.loc[:41]\n",
    "d3=d1.loc[42:]\n",
    "d2=sm.add_constant(d2) #d2 is training data\n",
    "d3=sm.add_constant(d3) #d3 is test data\n",
    "X=d2[['const','Price']]\n",
    "Y=d2['Sales']\n",
    "X['P2']=X['Price']*X['Price']\n",
    "model1=sm.OLS(Y,X).fit()\n",
    "print(model1.summary())\n",
    "X1=d3[['const','Price']]\n",
    "X1['P2']=X1['Price']*X1['Price']\n",
    "Y_fit=model1.predict(X1)\n",
    "plt.scatter(X1['Price'],d3['Sales'], color='red', label=\"Data points\")\n",
    "plt.plot(X1['Price'], Y_fit,marker='o' ,ms=6, linestyle=\"\",color='blue')\n",
    "plt.xlabel('Price')\n",
    "plt.ylabel('Sales')\n",
    "plt.legend(loc='lower right')\n",
    "plt.show()\n",
    "mse=mean_squared_error(d3['Sales'],Y_fit)\n",
    "rmse=np.sqrt(mse)\n",
    "print(f\"RMSE: {rmse}\")\n",
    "print(np.min(X1['Price']))\n",
    "print(np.max(X1['Price']))\n",
    "print(np.min(d3['Sales']))\n",
    "print(np.max(d3['Sales']))\n",
    "print(np.min(Y_fit))\n",
    "print(np.max(Y_fit))\n",
    "\n",
    "\n",
    "\n"
   ]
  }
 ],
 "metadata": {
  "kernelspec": {
   "display_name": "Python 3 (ipykernel)",
   "language": "python",
   "name": "python3"
  },
  "language_info": {
   "codemirror_mode": {
    "name": "ipython",
    "version": 3
   },
   "file_extension": ".py",
   "mimetype": "text/x-python",
   "name": "python",
   "nbconvert_exporter": "python",
   "pygments_lexer": "ipython3",
   "version": "3.12.7"
  }
 },
 "nbformat": 4,
 "nbformat_minor": 5
}
